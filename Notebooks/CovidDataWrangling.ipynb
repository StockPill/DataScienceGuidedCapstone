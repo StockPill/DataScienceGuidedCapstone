{
 "cells": [
  {
   "cell_type": "code",
   "execution_count": 4,
   "metadata": {},
   "outputs": [
    {
     "name": "stdout",
     "output_type": "stream",
     "text": [
      "            date  cases  deaths        DATE GASREGW\n",
      "0     2020-01-21    1.0     0.0  1990-08-20   1.191\n",
      "1     2020-01-22    1.0     0.0  1990-08-27   1.245\n",
      "2     2020-01-23    1.0     0.0  1990-09-03   1.242\n",
      "3     2020-01-24    2.0     0.0  1990-09-10   1.252\n",
      "4     2020-01-25    3.0     0.0  1990-09-17   1.266\n",
      "...          ...    ...     ...         ...     ...\n",
      "1646         NaN    NaN     NaN  2022-03-07   4.102\n",
      "1647         NaN    NaN     NaN  2022-03-14   4.315\n",
      "1648         NaN    NaN     NaN  2022-03-21   4.239\n",
      "1649         NaN    NaN     NaN  2022-03-28   4.231\n",
      "1650         NaN    NaN     NaN  2022-04-04    4.17\n",
      "\n",
      "[1651 rows x 5 columns]\n"
     ]
    }
   ],
   "source": [
    "import os\n",
    "import pandas as pd\n",
    "\n",
    "df1 = pd.read_csv('us.csv')\n",
    "df2 = pd.read_csv(\"GASREGW.csv\")\n",
    "result = pd.concat([df1, df2], axis = 1)\n",
    "print(result)"
   ]
  }
 ],
 "metadata": {
  "interpreter": {
   "hash": "6e70caa8b4443ac7869b2627fd51e77e74e2dee7c919e868aeb81cd5e3b3874e"
  },
  "kernelspec": {
   "display_name": "Python 3.9.7 ('base')",
   "language": "python",
   "name": "python3"
  },
  "language_info": {
   "codemirror_mode": {
    "name": "ipython",
    "version": 3
   },
   "file_extension": ".py",
   "mimetype": "text/x-python",
   "name": "python",
   "nbconvert_exporter": "python",
   "pygments_lexer": "ipython3",
   "version": "3.9.7"
  },
  "orig_nbformat": 4
 },
 "nbformat": 4,
 "nbformat_minor": 2
}
